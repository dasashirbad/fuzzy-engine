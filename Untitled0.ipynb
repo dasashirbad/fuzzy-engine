{
  "nbformat": 4,
  "nbformat_minor": 0,
  "metadata": {
    "colab": {
      "provenance": [],
      "authorship_tag": "ABX9TyMi4+1sZ1Aa6SYLw70MtSys",
      "include_colab_link": true
    },
    "kernelspec": {
      "name": "python3",
      "display_name": "Python 3"
    },
    "language_info": {
      "name": "python"
    }
  },
  "cells": [
    {
      "cell_type": "markdown",
      "metadata": {
        "id": "view-in-github",
        "colab_type": "text"
      },
      "source": [
        "<a href=\"https://colab.research.google.com/github/dasashirbad/fuzzy-engine/blob/main/Untitled0.ipynb\" target=\"_parent\"><img src=\"https://colab.research.google.com/assets/colab-badge.svg\" alt=\"Open In Colab\"/></a>"
      ]
    },
    {
      "cell_type": "code",
      "metadata": {
        "id": "Iw1um3LCun5i"
      },
      "source": [
        "import sys\n",
        "def test(f):\n",
        "  linenum = sys._getframe(1).f_lineno\n",
        "  if f:\n",
        "    print(\"Test passed at line {0}\".format(linenum))\n",
        "  else:\n",
        "    print(\"Test passed at line {0}\".format(linenum))"
      ],
      "execution_count": null,
      "outputs": []
    },
    {
      "cell_type": "code",
      "source": [
        "import string\n",
        "\n",
        "\n",
        "def eCounter(text):\n",
        "    newText = \"\"\n",
        "    count = 0\n",
        "    numofwords = 0\n",
        "    for char in text:\n",
        "        if char not in string.punctuation:\n",
        "            newText += char\n",
        "    newText = newText.split()\n",
        "    for words in newText:\n",
        "        numofwords += 1\n",
        "        if words.find(\"e\") != -1:\n",
        "            count += 1\n",
        "    print(\"Your text contains {0} words, of which {1} ({2}%) contain an 'e'.\".format(str(numofwords), str(count),\n",
        "                                                                                     str(count / numofwords * 100)))\n",
        "\n",
        "\n",
        "text = '''Assign to a variable in your program a triple-quoted string that contains your favourite paragraph of text — perhaps a poem, a speech, instructions to bake a cake, some inspirational verses, etc.\n",
        "Write a function which removes all punctuation from the string, breaks the string into a list of words, and counts the number of words in your text that contain the letter “e”. Your program should print an analysis of the text like this:'''\n",
        "eCounter(text)"
      ],
      "metadata": {
        "colab": {
          "base_uri": "https://localhost:8080/"
        },
        "id": "sA-WiEhrCiO6",
        "outputId": "b9054a7a-0522-4f0e-cf4c-dcc33f42947f"
      },
      "execution_count": null,
      "outputs": [
        {
          "output_type": "stream",
          "name": "stdout",
          "text": [
            "Your text contains 75 words, of which 26 (34.66666666666667%) contain an 'e'.\n"
          ]
        }
      ]
    },
    {
      "cell_type": "code",
      "metadata": {
        "id": "iFdos5m-meyC",
        "colab": {
          "base_uri": "https://localhost:8080/"
        },
        "outputId": "1ddefc48-9185-448d-e4fb-5b0da0b4b8ec"
      },
      "source": [
        "fruit = \"banana\"\n",
        "list(enumerate(fruit))\n"
      ],
      "execution_count": null,
      "outputs": [
        {
          "output_type": "execute_result",
          "data": {
            "text/plain": [
              "[(0, 'b'), (1, 'a'), (2, 'n'), (3, 'a'), (4, 'n'), (5, 'a')]"
            ]
          },
          "metadata": {},
          "execution_count": 1
        }
      ]
    },
    {
      "cell_type": "code",
      "metadata": {
        "colab": {
          "base_uri": "https://localhost:8080/"
        },
        "id": "m6xawNGgCLWz",
        "outputId": "f32a85b1-da87-4f0a-a171-a2bd0f865adb"
      },
      "source": [
        "sz = len(fruit)\n",
        "print(fruit[-6])"
      ],
      "execution_count": null,
      "outputs": [
        {
          "output_type": "stream",
          "text": [
            "b\n"
          ],
          "name": "stdout"
        }
      ]
    },
    {
      "cell_type": "code",
      "metadata": {
        "colab": {
          "base_uri": "https://localhost:8080/"
        },
        "id": "MLbzVSwnCra7",
        "outputId": "c12f8ed7-007d-4f2a-dfb3-b10dfa15a58a"
      },
      "source": [
        "ix = 0\n",
        "while ix < len(fruit):\n",
        "    print(fruit[ix])\n",
        "    ix += 1"
      ],
      "execution_count": null,
      "outputs": [
        {
          "output_type": "stream",
          "text": [
            "b\n",
            "a\n",
            "n\n",
            "a\n",
            "n\n",
            "a\n"
          ],
          "name": "stdout"
        }
      ]
    },
    {
      "cell_type": "code",
      "metadata": {
        "colab": {
          "base_uri": "https://localhost:8080/"
        },
        "id": "xN0XdaRVpQF6",
        "outputId": "2410fcb8-b0fa-4e90-ee6a-14bd6c4dba9d"
      },
      "source": [
        "prefixes = \"JKLMNOPQ\"\n",
        "suffix = \"ack\"\n",
        "\n",
        "for p in prefixes:\n",
        "  if(p==\"O\" or p==\"Q\"):\n",
        "    print(p +\"u\"+ suffix)\n",
        "  else:\n",
        "    print(p + suffix)"
      ],
      "execution_count": null,
      "outputs": [
        {
          "output_type": "stream",
          "text": [
            "Jack\n",
            "Kack\n",
            "Lack\n",
            "Mack\n",
            "Nack\n",
            "Ouack\n",
            "Pack\n",
            "Quack\n"
          ],
          "name": "stdout"
        }
      ]
    },
    {
      "cell_type": "code",
      "metadata": {
        "colab": {
          "base_uri": "https://localhost:8080/"
        },
        "id": "OQjJgZUduE7E",
        "outputId": "e2eb8436-6b94-435f-e375-0f8954bbe2a1"
      },
      "source": [
        "def remove_vowels(s):\n",
        "  vowels=\"aeiouAEIOU\"\n",
        "  nvowels=\"\"\n",
        "  for i in s:\n",
        "    if s not in vowels:\n",
        "      nvowels += s\n",
        "  return nvowels\n",
        "\n",
        "test(remove_vowels(\"compsci\") == \"cmpsc\")\n",
        "test(remove_vowels(\"aAbEefIijOopUus\") == \"bfjps\")"
      ],
      "execution_count": null,
      "outputs": [
        {
          "output_type": "stream",
          "text": [
            "Test passed at line 9\n",
            "Test passed at line 10\n"
          ],
          "name": "stdout"
        }
      ]
    },
    {
      "cell_type": "code",
      "metadata": {
        "colab": {
          "base_uri": "https://localhost:8080/"
        },
        "id": "z1fPjQbzvu4N",
        "outputId": "b0ba4965-ef4a-426d-ff17-c00fbd7d9c2b"
      },
      "source": [
        "def find(strng, ch):\n",
        "  ix = 0\n",
        "  while ix<len(strng):\n",
        "    if strng[ix]==ch:\n",
        "      return ix\n",
        "    ix += 1\n",
        "    return -1\n",
        "\n",
        "test(find(\"Compsci\", \"p\") == 3)\n",
        "test(find(\"Compsci\", \"C\") == 0)\n",
        "test(find(\"Compsci\", \"i\") == 6)\n",
        "test(find(\"Compsci\", \"x\") == -1)"
      ],
      "execution_count": null,
      "outputs": [
        {
          "output_type": "stream",
          "text": [
            "Test passed at line 9\n",
            "Test passed at line 10\n",
            "Test passed at line 11\n",
            "Test passed at line 12\n"
          ],
          "name": "stdout"
        }
      ]
    },
    {
      "cell_type": "code",
      "metadata": {
        "id": "qJmC068q0IQz"
      },
      "source": [
        "def find(strng, ch):\n",
        "  ix = 0\n",
        "  while ix<len(strng):\n",
        "    if strng[ix]==ch:\n",
        "      return ix\n",
        "    ix += 1\n",
        "    return -1"
      ],
      "execution_count": null,
      "outputs": []
    },
    {
      "cell_type": "code",
      "metadata": {
        "id": "JFLzJa-6C_Y6"
      },
      "source": [
        "def find(strng, ch):\n",
        "  ix = start\n",
        "  while ix < len(strng):\n",
        "    if string[ix]==ch:"
      ],
      "execution_count": null,
      "outputs": []
    },
    {
      "cell_type": "code",
      "metadata": {
        "colab": {
          "base_uri": "https://localhost:8080/"
        },
        "id": "bodcGypEtbKh",
        "outputId": "f87af32c-a432-4ff3-bfc0-da579680ed4e"
      },
      "source": [
        "def find2(a,b,c=0):\n",
        "  x = c\n",
        "  while x<len(a):\n",
        "    if a[x]==b:\n",
        "      return x\n",
        "    x += 1\n",
        "  return -1\n",
        "\n",
        "test(find2(\"banana\", \"a\", 2) == 3)"
      ],
      "execution_count": null,
      "outputs": [
        {
          "output_type": "stream",
          "text": [
            "Test passed at line 9\n"
          ],
          "name": "stdout"
        }
      ]
    },
    {
      "cell_type": "code",
      "metadata": {
        "colab": {
          "base_uri": "https://localhost:8080/"
        },
        "id": "d48AIeTUwBG9",
        "outputId": "9e34cbd0-dcca-4785-df2f-abd1b54af648"
      },
      "source": [
        "def find(strng, ch, start=0, end=None):\n",
        "    ix = start\n",
        "    if end is None:\n",
        "       end = len(strng)\n",
        "    while ix < end:\n",
        "        if strng[ix] == ch:\n",
        "            return ix\n",
        "        ix += 1\n",
        "    return -1\n",
        "ss = \"Python strings have some interesting methods.\"\n",
        "test(find(ss, \"s\") == 7)\n",
        "test(find(ss, \"s\", 7) == 7)\n",
        "test(find(ss, \"s\", 8) == 13)\n",
        "test(find(ss, \"s\", 8, 13) == -1)\n",
        "test(find(ss, \".\") == len(ss)-1)"
      ],
      "execution_count": null,
      "outputs": [
        {
          "output_type": "stream",
          "name": "stdout",
          "text": [
            "Test passed at line 11\n",
            "Test passed at line 12\n",
            "Test passed at line 13\n",
            "Test passed at line 14\n",
            "Test passed at line 15\n"
          ]
        }
      ]
    },
    {
      "cell_type": "code",
      "source": [
        "import random\n",
        "rng = random.Random()\n",
        "\n",
        "dice_throw = rng.randrange(1,7)\n",
        "delay_in_seconds = rng.random()"
      ],
      "metadata": {
        "id": "RkhSnFjrh7tK"
      },
      "execution_count": null,
      "outputs": []
    },
    {
      "cell_type": "code",
      "source": [
        "r_odd = rng.randrange(1,100,2)"
      ],
      "metadata": {
        "id": "C2RfQANX1jME"
      },
      "execution_count": null,
      "outputs": []
    },
    {
      "cell_type": "code",
      "source": [
        "fruit = \"banana\"\n",
        "list(enumerate(fruit))"
      ],
      "metadata": {
        "id": "RPbui7fZ26sS",
        "colab": {
          "base_uri": "https://localhost:8080/"
        },
        "outputId": "668f0787-9e56-4eb0-9acf-cd50b3dc2376"
      },
      "execution_count": null,
      "outputs": [
        {
          "output_type": "execute_result",
          "data": {
            "text/plain": [
              "[(0, 'b'), (1, 'a'), (2, 'n'), (3, 'a'), (4, 'n'), (5, 'a')]"
            ]
          },
          "metadata": {},
          "execution_count": 1
        }
      ]
    },
    {
      "cell_type": "markdown",
      "source": [
        "Just Excercising"
      ],
      "metadata": {
        "id": "aGYlpkIRCttH"
      }
    },
    {
      "cell_type": "code",
      "source": [
        "def remove_letter(char, text):\n",
        "    charremovedText = \"\"\n",
        "    for letter in text:\n",
        "        if letter == char:\n",
        "            continue\n",
        "        else:\n",
        "            charremovedText += letter\n",
        "    return charremovedText\n",
        "\n",
        "\n",
        "print(remove_letter(\"a\", \"banana\"))\n",
        "\n",
        "test(remove_letter(\"a\", \"apple\") == \"pple\")\n",
        "test(remove_letter(\"a\", \"banana\") == \"bnn\")\n",
        "test(remove_letter(\"z\", \"banana\") == \"banana\")\n",
        "test(remove_letter(\"i\", \"Mississippi\") == \"Msssspp\")\n",
        "test(remove_letter(\"b\", \"\") = \"\")\n",
        "test(remove_letter(\"b\", \"c\") = \"c\")"
      ],
      "metadata": {
        "colab": {
          "base_uri": "https://localhost:8080/"
        },
        "id": "uzo5KO77CzxN",
        "outputId": "0dec342d-3d8c-44bb-fb0f-84431eccb09c"
      },
      "execution_count": null,
      "outputs": [
        {
          "output_type": "error",
          "ename": "SyntaxError",
          "evalue": "ignored",
          "traceback": [
            "\u001b[0;36m  File \u001b[0;32m\"<ipython-input-12-8b8f248435ca>\"\u001b[0;36m, line \u001b[0;32m17\u001b[0m\n\u001b[0;31m    test(remove_letter(\"b\", \"\") = \"\")\u001b[0m\n\u001b[0m        ^\u001b[0m\n\u001b[0;31mSyntaxError\u001b[0m\u001b[0;31m:\u001b[0m keyword can't be an expression\n"
          ]
        }
      ]
    },
    {
      "cell_type": "code",
      "source": [],
      "metadata": {
        "id": "mAYjfbAnpTRJ"
      },
      "execution_count": null,
      "outputs": []
    }
  ]
}